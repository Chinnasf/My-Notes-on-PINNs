{
 "cells": [
  {
   "cell_type": "markdown",
   "metadata": {},
   "source": [
    "This notebook is based on the [Lagrangian NN tutorial](https://colab.research.google.com/drive/1CSy-xfrnTX28p1difoTA8ulYw0zytJkq).\n",
    "\n",
    "## The double pendulum"
   ]
  },
  {
   "cell_type": "code",
   "execution_count": 1,
   "metadata": {},
   "outputs": [],
   "source": [
    "import jax"
   ]
  },
  {
   "cell_type": "code",
   "execution_count": 2,
   "metadata": {},
   "outputs": [
    {
     "data": {
      "text/plain": [
       "'0.6.1'"
      ]
     },
     "execution_count": 2,
     "metadata": {},
     "output_type": "execute_result"
    }
   ],
   "source": [
    "jax.__version__"
   ]
  },
  {
   "cell_type": "code",
   "execution_count": 3,
   "metadata": {},
   "outputs": [],
   "source": [
    "# For the creation of images\n",
    "#!pip install -U -q Pillow moviepy proglog"
   ]
  },
  {
   "cell_type": "code",
   "execution_count": 4,
   "metadata": {},
   "outputs": [],
   "source": [
    "import jax\n",
    "import jax.numpy as jnp\n",
    "import numpy as np\n",
    "from jax.experimental.ode import odeint\n",
    "\n",
    "import matplotlib.pyplot as plt\n",
    "from functools import partial # reduces arguments to function by making some subset implicit\n",
    "\n",
    "from jax.example_libraries import stax, optimizers\n",
    "\n",
    "\n",
    "# visualization\n",
    "import matplotlib.pyplot as plt\n",
    "from matplotlib.patches import Circle\n",
    "from moviepy import ImageSequenceClip\n",
    "from functools import partial\n",
    "import proglog\n",
    "from PIL import Image"
   ]
  },
  {
   "cell_type": "code",
   "execution_count": 8,
   "metadata": {},
   "outputs": [
    {
     "name": "stdout",
     "output_type": "stream",
     "text": [
      "gpu\n"
     ]
    }
   ],
   "source": [
    "# Making sure we are using GPU\n",
    "from jax.lib import xla_bridge\n",
    "print(xla_bridge.get_backend().platform)\n",
    "\n",
    "\"\"\"\n",
    "/tmp/ipykernel_38924/3960750258.py:3: DeprecationWarning: jax.lib.xla_bridge.get_backend is deprecated; use jax.extend.backend.get_backend.\n",
    "  print(xla_bridge.get_backend().platform)\"\"\";\n"
   ]
  },
  {
   "cell_type": "markdown",
   "metadata": {},
   "source": [
    "One can follow the [derivation done by Diego Assencio](https://dassencio.org/33) on the Lagrangian formulation of the double pendulum. From this, one observes that the Lagrangian formualtion of the double pendulum becomes\n",
    "\n",
    "$$\n",
    "    \\mathcal{L} = \\frac{1}{2}\\left( m_1 + m_2 \\right)l^2_1\\dot{\\theta}^2_1 + \\frac{1}{2}m_2l^2_2\\dot{\\theta}^2_2 + m_2l_1l_2\\dot{\\theta}_1\\dot{\\theta}_2\\cos(\\theta_1-\\theta_2) + \\left(m_1+m_2\\right)gl_1\\cos(\\theta_1) + m_2gl_2\\cos(\\theta_2) \n",
    "$$\n",
    "\n",
    "$$\n",
    "    \\mathcal{L} = \\frac{1}{2}m_1 l^2_1\\dot{\\theta}^2_1 + \\frac{1}{2}m_2\\left(l^2_1\\dot{\\theta}^2_1 + l^2_2\\dot{\\theta}^2_2 + 2l_1l_2\\dot{\\theta}_1\\dot{\\theta}_2\\cos(\\theta_1-\\theta_2)\\right) + \\left(m_1+m_2\\right)gl_1\\cos(\\theta_1) + m_2gl_2\\cos(\\theta_2) \n",
    "$$\n",
    "\n",
    "Where all the terms that do not contain the gravity $g$ belong to the kinetic energy. To obtain the canonical momenta $p_{\\theta_j}$ associates with the coordinate $\\theta_j$, one just computes $\\partial \\mathcal{L} / \\partial \\dot{\\theta}_j$."
   ]
  },
  {
   "cell_type": "code",
   "execution_count": 9,
   "metadata": {},
   "outputs": [],
   "source": [
    "# Compute the Lagrangian\n",
    "def get_Lagrangian(q, q_dot, m1=1, m2=1, l1=1, l2=1, g=9.8):\n",
    "    θ_1, θ_2 = q\n",
    "    θ_dot_1, θ_dot_2 = q_dot\n",
    "    \n",
    "    E_kin_1 = 0.5*m1*jnp.square(l1*θ_1)\n",
    "    E_kin_2 = 0.5*m2*( jnp.square(l1*θ_1) + jnp.square(l2*θ_2) + 2*l1*l2*θ_dot_1*θ_dot_2*jnp.cos(θ_1-θ_2) )\n",
    "    \n",
    "    T = E_kin_1 + E_kin_2\n",
    "    V = -g*m2*( l1*jnp.cos(θ_1) +  l2*jnp.cos(θ_2) ) - g*m1*l1*jnp.cos(θ_1)\n",
    "    return T - V"
   ]
  },
  {
   "cell_type": "markdown",
   "metadata": {},
   "source": [
    "It is possible to assess for the quality of the Lagrangian-NN as there's an analytical solution for this problem. By following Diego's derivation, one observes that\n",
    "\n",
    "$$\n",
    "    \\displaystyle\\frac{d}{dt}\n",
    "    \\left( \\begin{matrix} \\theta_1 \\\\[1pt] \\theta_2 \\\\[1pt] \\omega_1 \\\\[1pt] \\omega_1 \\end{matrix} \\right)\n",
    "    =\n",
    "    \\left( \\begin{matrix} \\omega_1 \\\\ \\omega_2 \\\\ g_1(\\theta_1,\\theta_2,\\omega_1,\\omega_2)\n",
    "    \\\\ g_2(\\theta_1,\\theta_2,\\omega_1,\\omega_2) \\end{matrix} \\right),\n",
    "$$\n",
    "\n",
    "where\n",
    "\n",
    "$$\n",
    "    g_1 := \\displaystyle\\frac{f_1 - \\alpha_1 f_2}{1 - \\alpha_1\\alpha_2}\n",
    "    \\quad\\quad\n",
    "    g_2 := \\displaystyle\\frac{f_2 - \\alpha_2 f_1}{1 - \\alpha_1\\alpha_2}\n",
    "$$\n",
    "\n",
    "and\n",
    "\n",
    "$$\n",
    "    \\begin{align}\n",
    "    & \\alpha_1(\\theta_1,\\theta_2) ~:=~ \\displaystyle\\frac{l_2}{l_1}\\left(\\frac{m_2}{m_1 + m_2}\\right)\\cos(\\theta_1 - \\theta_2)\\\\\n",
    "    &\\alpha_2(\\theta_1,\\theta_2) ~:=~ \\frac{l_1}{l_2}\\cos(\\theta_1-\\theta_2)\\\\\n",
    "    &\\displaystyle f_1(\\theta_1, \\theta_2, \\dot{\\theta}_1, \\dot{\\theta}_2) ~:=~\n",
    "    -\\frac{l_2}{l_1}\\left(\\frac{m_2}{m_1+m_2}\\right) \\dot{\\theta}_2^2\\sin(\\theta_1 - \\theta_2)\n",
    "    - \\frac{g}{l_1} \\sin\\theta_1 \\\\\n",
    "    &\\displaystyle f_2(\\theta_1, \\theta_2, \\dot{\\theta}_1, \\dot{\\theta}_2) ~:=~\n",
    "    \\frac{l_1}{l_2}\\dot{\\theta}_1^2\\sin(\\theta_1-\\theta_2) - \\frac{g}{l_2} \\sin\\theta_2 \n",
    "    \\end{align}\n",
    "$$\n",
    "\n",
    "These functions will also be computed to then create the loss function. \n"
   ]
  },
  {
   "cell_type": "code",
   "execution_count": null,
   "metadata": {},
   "outputs": [],
   "source": [
    "def get_analytical_sol(state, m1=1, m2=1, l1=1, l2=1, g=9.8):\n",
    "    θ_1, θ_2, θ_dot_1, θ_dot_2 = state\n",
    "    \n",
    "    α1 = (l2/l1)*(m2/(m1+m2))*jnp.cos(θ_1-θ_2)\n",
    "    α2 = (l1/l2)*jnp.cos(θ_1-θ_2)\n",
    "    \n",
    "    f1 = -(l2/l1)*(m2/(m1+m2))*jnp.square(θ_dot_2)*jnp.sin(θ_1-θ_2) - g*jnp.sin(θ_1)/l1\n",
    "    f2 = (l1/l2)*jnp.square(θ_dot_1)*jnp.sin(θ_1-θ_2) - g*jnp.sin(θ_2)/l2\n",
    "    \n",
    "    g1 = (f1 - α1*f2)/(1 - α1*α2)\n",
    "    g2 = (f2 - α2*f1)/(1 - α1*α2)\n",
    "    \n",
    "    return jnp.stack([θ_dot_1,θ_dot_2,g1,g2])"
   ]
  },
  {
   "cell_type": "markdown",
   "metadata": {},
   "source": [
    "The next step is to obtain the dynamics of the system with numerical integration. We take the vectorized form of the Euler-Lagrange equation \n",
    "\n",
    "$$\n",
    "    \\ddot q = (\\nabla_{\\dot q}\\nabla_{\\dot q}^{\\top}\\mathcal{L})^{-1}[\\nabla_q \\mathcal{L} - (\\nabla_{q}\\nabla_{\\dot q}^{\\top}\\mathcal{L})\\dot q]\n",
    "$$\n",
    "\n",
    "It is possible to notice that the neural network will depend on the inverse of a Hessian matrix during the forward pass. This is not an easy implementation; however, the authors of the research propose the usage of JAX, which can implement the previous equation straightforwardly. "
   ]
  },
  {
   "cell_type": "code",
   "execution_count": null,
   "metadata": {},
   "outputs": [],
   "source": [
    "def get_eqs_of_motion(L, t, state):\n",
    "    q, q_t = jnp.split(state,2)\n",
    "    q_tt =  ( jnp.linalg.pinv( jax.hessian(L,1)(q,q_t) ) @ \n",
    "              jax.grad(L,1)(q,q_t) - jax.jacobian(jax.jacobian(L,0)(q,q_t) @ q_t)\n",
    "            )\n",
    "    return jnp.concatenate([q_t, q_tt])\n",
    "\n",
    "def solve_lagrangian(L, initial_state, **kwargs):\n",
    "  # We currently run odeint on CPUs only, because its cost is dominated by\n",
    "  # control flow, which is slow on GPUs.\n",
    "  @partial(jax.jit, backend='cpu')\n",
    "  def f(initial_state):\n",
    "    return odeint(partial(get_eqs_of_motion, L),\n",
    "                  initial_state, **kwargs)\n",
    "  return f(initial_state)"
   ]
  },
  {
   "cell_type": "code",
   "execution_count": null,
   "metadata": {},
   "outputs": [],
   "source": []
  }
 ],
 "metadata": {
  "kernelspec": {
   "display_name": "GPU_optimization",
   "language": "python",
   "name": "python3"
  },
  "language_info": {
   "codemirror_mode": {
    "name": "ipython",
    "version": 3
   },
   "file_extension": ".py",
   "mimetype": "text/x-python",
   "name": "python",
   "nbconvert_exporter": "python",
   "pygments_lexer": "ipython3",
   "version": "3.10.16"
  }
 },
 "nbformat": 4,
 "nbformat_minor": 2
}
