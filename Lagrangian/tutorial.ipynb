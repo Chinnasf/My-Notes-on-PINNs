{
 "cells": [
  {
   "cell_type": "markdown",
   "metadata": {},
   "source": [
    "This notebook is based on the [Lagrangian NN tutorial](https://colab.research.google.com/drive/1CSy-xfrnTX28p1difoTA8ulYw0zytJkq).\n",
    "\n",
    "## The double pendulum"
   ]
  },
  {
   "cell_type": "code",
   "execution_count": 1,
   "metadata": {},
   "outputs": [],
   "source": [
    "# For the creation of images\n",
    "#!pip install -U -q Pillow moviepy proglog"
   ]
  },
  {
   "cell_type": "code",
   "execution_count": 2,
   "metadata": {},
   "outputs": [],
   "source": [
    "import jax\n",
    "import jax.numpy as jnp\n",
    "import numpy as np\n",
    "from jax.experimental.ode import odeint\n",
    "\n",
    "import matplotlib.pyplot as plt\n",
    "from functools import partial # reduces arguments to function by making some subset implicit\n",
    "\n",
    "from jax.example_libraries import stax, optimizers\n",
    "\n",
    "\n",
    "# visualization\n",
    "import matplotlib.pyplot as plt\n",
    "from matplotlib.patches import Circle\n",
    "from moviepy import ImageSequenceClip\n",
    "from functools import partial\n",
    "import proglog\n",
    "from PIL import Image"
   ]
  },
  {
   "cell_type": "code",
   "execution_count": 3,
   "metadata": {},
   "outputs": [
    {
     "name": "stderr",
     "output_type": "stream",
     "text": [
      "/tmp/ipykernel_11813/2814231649.py:3: DeprecationWarning: jax.lib.xla_bridge.get_backend is deprecated; use jax.extend.backend.get_backend.\n",
      "  print(xla_bridge.get_backend().platform)\n"
     ]
    },
    {
     "name": "stdout",
     "output_type": "stream",
     "text": [
      "gpu\n"
     ]
    },
    {
     "name": "stderr",
     "output_type": "stream",
     "text": [
      "E0704 14:13:17.209274   11813 cuda_dnn.cc:522] Loaded runtime CuDNN library: 9.7.1 but source was compiled with: 9.8.0.  CuDNN library needs to have matching major version and equal or higher minor version. If using a binary install, upgrade your CuDNN library.  If building from sources, make sure the library loaded at runtime is compatible with the version specified during compile configuration.\n",
      "E0704 14:13:17.220763   11813 cuda_dnn.cc:522] Loaded runtime CuDNN library: 9.7.1 but source was compiled with: 9.8.0.  CuDNN library needs to have matching major version and equal or higher minor version. If using a binary install, upgrade your CuDNN library.  If building from sources, make sure the library loaded at runtime is compatible with the version specified during compile configuration.\n"
     ]
    }
   ],
   "source": [
    "# Making sure we are using GPU\n",
    "from jax.lib import xla_bridge\n",
    "print(xla_bridge.get_backend().platform)\n",
    "\n",
    "\"\"\"\n",
    "/tmp/ipykernel_38924/3960750258.py:3: DeprecationWarning: jax.lib.xla_bridge.get_backend is deprecated; use jax.extend.backend.get_backend.\n",
    "  print(xla_bridge.get_backend().platform)\"\"\";\n"
   ]
  },
  {
   "cell_type": "markdown",
   "metadata": {},
   "source": [
    "One can follow the [derivation done by Diego Assencio](https://dassencio.org/33) on the Lagrangian formulation of the double pendulum. From this, one observes that the Lagrangian formualtion of the double pendulum becomes\n",
    "\n",
    "$$\n",
    "    \\mathcal{L} = \\frac{1}{2}\\left( m_1 + m_2 \\right)l^2_1\\dot{\\theta}^2_1 + \\frac{1}{2}m_2l^2_2\\dot{\\theta}^2_2 + m_2l_1l_2\\dot{\\theta}_1\\dot{\\theta}_2\\cos(\\theta_1-\\theta_2) + \\left(m_1+m_2\\right)gl_1\\cos(\\theta_1) + m_2gl_2\\cos(\\theta_2) \n",
    "$$\n",
    "\n",
    "$$\n",
    "    \\mathcal{L} = \\frac{1}{2}m_1 l^2_1\\dot{\\theta}^2_1 + \\frac{1}{2}m_2\\left(l^2_1\\dot{\\theta}^2_1 + l^2_2\\dot{\\theta}^2_2 + 2l_1l_2\\dot{\\theta}_1\\dot{\\theta}_2\\cos(\\theta_1-\\theta_2)\\right) + \\left(m_1+m_2\\right)gl_1\\cos(\\theta_1) + m_2gl_2\\cos(\\theta_2) \n",
    "$$\n",
    "\n",
    "Where all the terms that do not contain the gravity $g$ belong to the kinetic energy. To obtain the canonical momenta $p_{\\theta_j}$ associates with the coordinate $\\theta_j$, one just computes $\\partial \\mathcal{L} / \\partial \\dot{\\theta}_j$."
   ]
  },
  {
   "cell_type": "code",
   "execution_count": 4,
   "metadata": {},
   "outputs": [],
   "source": [
    "# Compute the Lagrangian\n",
    "def get_Lagrangian(q, q_dot, m1=1, m2=1, l1=1, l2=1, g=9.8):\n",
    "    θ_1, θ_2 = q\n",
    "    θ_dot_1, θ_dot_2 = q_dot\n",
    "    \n",
    "    E_kin_1 = 0.5*m1*jnp.square(l1*θ_dot_1)\n",
    "    E_kin_2 = 0.5*m2*( jnp.square(l1*θ_dot_1) + jnp.square(l2*θ_dot_2) + 2*l1*l2*θ_dot_1*θ_dot_2*jnp.cos(θ_1-θ_2) )\n",
    "    \n",
    "    T = E_kin_1 + E_kin_2\n",
    "    V = -g*m2*( l1*jnp.cos(θ_1) +  l2*jnp.cos(θ_2) ) - g*m1*l1*jnp.cos(θ_1)\n",
    "    return T - V"
   ]
  },
  {
   "cell_type": "markdown",
   "metadata": {},
   "source": [
    "It is possible to assess for the quality of the Lagrangian-NN as there's an analytical solution for this problem. By following Diego's derivation, one observes that\n",
    "\n",
    "$$\n",
    "    \\displaystyle\\frac{d}{dt}\n",
    "    \\left( \\begin{matrix} \\theta_1 \\\\[1pt] \\theta_2 \\\\[1pt] \\omega_1 \\\\[1pt] \\omega_1 \\end{matrix} \\right)\n",
    "    =\n",
    "    \\left( \\begin{matrix} \\omega_1 \\\\ \\omega_2 \\\\ g_1(\\theta_1,\\theta_2,\\omega_1,\\omega_2)\n",
    "    \\\\ g_2(\\theta_1,\\theta_2,\\omega_1,\\omega_2) \\end{matrix} \\right),\n",
    "$$\n",
    "\n",
    "where\n",
    "\n",
    "$$\n",
    "    g_1 := \\displaystyle\\frac{f_1 - \\alpha_1 f_2}{1 - \\alpha_1\\alpha_2}\n",
    "    \\quad\\quad\n",
    "    g_2 := \\displaystyle\\frac{f_2 - \\alpha_2 f_1}{1 - \\alpha_1\\alpha_2}\n",
    "$$\n",
    "\n",
    "and\n",
    "\n",
    "$$\n",
    "    \\begin{align}\n",
    "    & \\alpha_1(\\theta_1,\\theta_2) ~:=~ \\displaystyle\\frac{l_2}{l_1}\\left(\\frac{m_2}{m_1 + m_2}\\right)\\cos(\\theta_1 - \\theta_2)\\\\\n",
    "    &\\alpha_2(\\theta_1,\\theta_2) ~:=~ \\frac{l_1}{l_2}\\cos(\\theta_1-\\theta_2)\\\\\n",
    "    &\\displaystyle f_1(\\theta_1, \\theta_2, \\dot{\\theta}_1, \\dot{\\theta}_2) ~:=~\n",
    "    -\\frac{l_2}{l_1}\\left(\\frac{m_2}{m_1+m_2}\\right) \\dot{\\theta}_2^2\\sin(\\theta_1 - \\theta_2)\n",
    "    - \\frac{g}{l_1} \\sin\\theta_1 \\\\\n",
    "    &\\displaystyle f_2(\\theta_1, \\theta_2, \\dot{\\theta}_1, \\dot{\\theta}_2) ~:=~\n",
    "    \\frac{l_1}{l_2}\\dot{\\theta}_1^2\\sin(\\theta_1-\\theta_2) - \\frac{g}{l_2} \\sin\\theta_2 \n",
    "    \\end{align}\n",
    "$$\n",
    "\n",
    "These functions will also be computed to then create the loss function. \n"
   ]
  },
  {
   "cell_type": "code",
   "execution_count": 5,
   "metadata": {},
   "outputs": [],
   "source": [
    "def get_analytical_sol(state, t=0, m1=1, m2=1, l1=1, l2=1, g=9.8):\n",
    "    θ_1, θ_2, θ_dot_1, θ_dot_2 = state\n",
    "    \n",
    "    α1 = (l2/l1)*(m2/(m1+m2))*jnp.cos(θ_1-θ_2)\n",
    "    α2 = (l1/l2)*jnp.cos(θ_1-θ_2)\n",
    "    \n",
    "    f1 = -(l2/l1)*(m2/(m1+m2))*jnp.square(θ_dot_2)*jnp.sin(θ_1-θ_2) - g*jnp.sin(θ_1)/l1\n",
    "    f2 = (l1/l2)*jnp.square(θ_dot_1)*jnp.sin(θ_1-θ_2) - g*jnp.sin(θ_2)/l2\n",
    "    \n",
    "    g1 = (f1 - α1*f2)/(1 - α1*α2)\n",
    "    g2 = (f2 - α2*f1)/(1 - α1*α2)\n",
    "    \n",
    "    return jnp.stack([θ_dot_1,θ_dot_2,g1,g2])"
   ]
  },
  {
   "cell_type": "markdown",
   "metadata": {},
   "source": [
    "The next step is to obtain the dynamics of the system with numerical integration. We take the vectorized form of the Euler-Lagrange equation \n",
    "\n",
    "$$\n",
    "    \\ddot q = (\\nabla_{\\dot q}\\nabla_{\\dot q}^{\\top}\\mathcal{L})^{-1}[\\nabla_q \\mathcal{L} - (\\nabla_{q}\\nabla_{\\dot q}^{\\top}\\mathcal{L})\\dot q]\n",
    "$$\n",
    "\n",
    "It is possible to notice that the neural network will depend on the inverse of a Hessian matrix during the forward pass. This is not an easy implementation; however, the authors of the research propose the usage of JAX, which can implement the previous equation straightforwardly. "
   ]
  },
  {
   "cell_type": "code",
   "execution_count": 6,
   "metadata": {},
   "outputs": [],
   "source": [
    "def get_eqs_of_motion(L, state, t=None):\n",
    "    q, q_t = jnp.split(state,2)\n",
    "    q_tt =  ( jnp.linalg.pinv( jax.hessian(L,1)(q,q_t) ) @ (\n",
    "                jax.grad(L,0)(q,q_t) - jax.jacobian(( jax.jacobian(L,1) ),0)(q,q_t)@q_t\n",
    "              )\n",
    "            )\n",
    "    return jnp.concatenate([q_t, q_tt])\n",
    "\n",
    "# Which is equivalent to:\n",
    "def get_eqs_of_motion__more_simple(L, state, t=None):\n",
    "    q, q_t = jnp.split(state, 2)\n",
    "    \n",
    "    M_inv = jnp.linalg.pinv(jax.hessian(L, 1)(q, q_t))  # ∂²L/∂q̇²\n",
    "    f = jax.grad(L, 0)(q, q_t)                          # ∂L/∂q\n",
    "    J = jax.jacobian(jax.grad(L, 1), 0)(q, q_t)         # ∂/∂q (∂L/∂q̇)\n",
    "    \n",
    "    q_tt = M_inv @ (f - J @ q_t)\n",
    "    return jnp.concatenate([q_t, q_tt])\n",
    "\n",
    "  \n",
    "\n",
    "\n",
    "def JIT_solve_lagrangian(L, initial_state, **kwargs):\n",
    "  #         We currently run odeint on CPUs only, because its cost is \n",
    "  #         dominated by control flow, which is slow on GPUs.\n",
    "  @partial(jax.jit, backend='cpu')\n",
    "  def f(initial_state): # The creation of a pure function.\n",
    "    return odeint(partial(get_eqs_of_motion, L), initial_state, **kwargs)\n",
    "  return f(initial_state)"
   ]
  },
  {
   "cell_type": "markdown",
   "metadata": {},
   "source": [
    "The authors of this tutorial made an elegant, yet compact, representation of the equations of motions. Here, I would like to dwelve more into the meaning of each line. \n",
    "\n",
    "**REMARKS** \n",
    "* `jax.jacobian(jax.jacobian(L,0)(q,q_t) @ q_t)`: is elegant but dense. It computes ∂/∂q of (∂L/∂q @ q_dot), which is part of the standard Euler-Lagrange equation.\n",
    "* `jnp.linalg.pinv`: is good for generality, but can sometimes introduce numerical instability. If the system is known to be well-behaved, `jnp.linalg.solve` may be faster and more accurate (but `pinv` is safer for a generic setup like LNN training).\n",
    "\n",
    "\n",
    "**`get_eqs_of_motion(L, t, state):`** \n",
    "* This second-order differentiation handles the time derivative of the partial w.r.t. velocity — that is, it traces how the Lagrangian's \"momentum term\" evolves.\n",
    "* The full derivative of the state is returned. The output is in the form of \n",
    "\n",
    "$$\n",
    "    \\frac{d}{dt} \\begin{bmatrix}\n",
    "           q \\\\\n",
    "           \\dot{q} \\\\\n",
    "         \\end{bmatrix} = \\begin{bmatrix}\n",
    "           \\dot{q} \\\\\n",
    "           \\ddot{q} \\\\\n",
    "         \\end{bmatrix}\n",
    "$$\n",
    "\n",
    "This is now suitable for any ODE solver like `odeint`.\n",
    "\n",
    "\n",
    "**`solve_lagrangian(L, initial_state, **kwargs):`** this is a wrapper (nested `def`s) that:\n",
    "1. Fixes the Lagrangian `L` for use in `get_eqs_of_motion`.\n",
    "2. JIT-compiles the call to `odeint` (using CPU backend due to control flow complexity).\n",
    "\n",
    "* **Why JIT on CPU?**\n",
    "  * odeint in JAX has complex control flow (e.g., branching based on tolerances, adaptive step sizes). GPUs handle vectorized math well but can be slower at control flow. So you force it to run on CPU for now.\n",
    "  * JAX now has better support for GPU control flow via jax.experimental.ode.odeint, but performance gains are still context-dependent.\n",
    "\n",
    "* **Why use an inner function for `solve_lagrangian` instead of JIT-decorating it directly?** For instance:\n",
    "\n",
    "```Python\n",
    "@partial(jax.jit, backend='cpu')\n",
    "def solve_lagrangian(L, initial_state, **kwargs):\n",
    "    return odeint(partial(get_eqs_of_motion, L), initial_state, **kwargs)\n",
    "```\n",
    "\n",
    "Both versions can work… BUT there’s a subtle difference in JAX tracing behavior and Python flexibility.\n",
    "\n",
    "1. **JAX JIT requires static arguments.**\n",
    "  * JAX's `@jit` compiler likes arguments to be **static or immutable** — e.g., the function `L` or other Python-side closures.\n",
    "  * When you decorate the whole function `solve_lagrangian(...)` with `@jit`, `L` and `**kwargs` become part of the JAX tracing process.\n",
    "  * This can lead to **recompilation** every time you pass a different `L`, or even worse — a `TypeError` if `L` isn't a JAX-friendly object (e.g., a function or closure it can’t serialize).\n",
    "\n",
    "UNDERSTAND: Using an inner function like this:\n",
    "```Python\n",
    "@partial(jax.jit, backend='cpu')\n",
    "def f(initial_state):\n",
    "```\n",
    "  * fixes `L` and `**kwargs` outside the JIT scope. **That makes `f` a pure function of `initial_state`**, which is safer and more efficient for JAX's tracer.\n",
    "    * Remember this was something mentioned in the KTH school.\n",
    "\n",
    "2. **THIS IS ACTUALLY A CLEANER COMPILATION**\n",
    "\n",
    "With this pattern:\n",
    "\n",
    "```Python\n",
    "def solve_lagrangian(L, initial_state, **kwargs):\n",
    "    @partial(jax.jit, backend='cpu')\n",
    "    def f(initial_state):\n",
    "        ...\n",
    "```\n",
    "one:\n",
    "* Avoid JAX tracing the `L` function directly\n",
    "* **Minimize the number of recompilations when calling `solve_lagrangian` multiple times**\n",
    "* Keep the outer function Pythonic and flexible (e.g., you could swap in different `L`s dynamically)\n",
    "\n",
    "3. **EASIER DEBUGGING**\n",
    "* If you put the `@jit` on the outer function, debugging becomes harder, especially if something goes wrong inside the call to `odeint`. If it's wrapped in `f(...)`, you can:\n",
    "  * Call the inner function un-jitted for debugging\n",
    "  * **Catch errors before JAX compiles everything**\n",
    "\n",
    "4. **REMEMBER**: You want **clean**, JIT-optimized computation **of just the numerical function** (not the logic/structure).\n",
    "* So yep — both can work, but the version with the inner function is safer, cleaner, and more efficient for dynamically passed Lagrangians or kwargs.\n",
    "\n",
    "\n",
    "\n",
    "    \n",
    " "
   ]
  },
  {
   "cell_type": "markdown",
   "metadata": {},
   "source": [
    "## WHAT IS JIT AND WHY IS IT SO IMPORTANT?\n",
    "\n",
    "JIT stands for Just-In-Time compilation. It means: **Instead of interpreting your code line by line (like Python normally does), JIT compiles the code into optimized machine instructions at runtime, right before it's executed.**\n",
    "\n",
    "In JAX:\n",
    "\n",
    "```Python\n",
    "@jax.jit\n",
    "def f(x):\n",
    "    return x**2 + jnp.sin(x)\n",
    "```\n",
    "\n",
    "When you call f(x), JAX:\n",
    "\n",
    "* Traces the function to record the operations it does (like a computation graph).\n",
    "* Compiles those operations into fast **XLA code** (XLA = Accelerated Linear Algebra compiler).\n",
    "* Caches the compiled version so that next time it just runs the optimized code.\n",
    "\n",
    "Thanks to JIT:\n",
    "\n",
    "* You get C/C++-level speed (or better, especially on GPU).\n",
    "* You avoid Python overhead (e.g., no type checking, no Python object boxing/unboxing).\n",
    "* You can run code efficiently on **CPU**, **GPU**, or **TPU**.\n",
    "\n",
    "**🧩 How does this compare to Fortran or C++?**\n",
    "\n",
    "| Feature           | Python (standard) | JAX with JIT                | Fortran / C++         |\n",
    "| ----------------- | ----------------- | --------------------------- | --------------------- |\n",
    "| Language type     | Interpreted       | Interpreted + JIT           | Compiled              |\n",
    "| Compilation step? | ❌ (usually none)  | ✅ JIT with XLA              | ✅ Ahead-of-Time  (compiled before execution)       |\n",
    "| Performance       | 🐢 Slow           | 🚀 Near C-level speed       | 🚀 Fast               |\n",
    "| Flexibility       | ✅ Very high       | ✅ High (JIT has limits)     | ❌ Less flexible       |\n",
    "| Compilation time  | None              | JIT happens *on first call* | Happens at build time |\n",
    "\n",
    "**🧩 What does @partial(...) do?**\n",
    "\n",
    "The @partial decorator comes from Python's functools module and is used to pre-fill some arguments of a function, effectively locking in some parameters ahead of time.\n",
    "\n",
    "In other words, it returns a new version of a function with some arguments already fixed. For instance: \n",
    "\n",
    "```Python\n",
    "from functools import partial\n",
    "\n",
    "def f(a, b, c):\n",
    "    return a + b + c\n",
    "\n",
    "g = partial(f, b=2)\n",
    "g(a=1, c=3)  # returns 1 + 2 + 3 = 6\n",
    "```\n",
    "\n",
    "**🧩 Why do we use `@partial` with decorators like `@jax.jit`?**\n",
    "\n",
    "When you decorate a function like this:\n",
    "\n",
    "```Python\n",
    "@partial(jax.jit, backend='cpu')\n",
    "def f(x):\n",
    "    return ...\n",
    "```\n",
    "\n",
    "That’s exactly the same as:\n",
    "\n",
    "```Python\n",
    "\n",
    "f = partial(jax.jit, backend='cpu')(f)\n",
    "```\n",
    "\n",
    "You're passing `backend='cpu'` as a pre-filled argument to `jax.jit`. So:\n",
    "* `jax.jit` is a function that returns a **decorator**\n",
    "* `partial(jax.jit, backend='cpu')` becomes a customized decorator\n",
    "* `@partial(...)` is just the decorator version of `partial(...)`\n",
    "\n",
    "\n",
    "### Setting up helper functions for the dynamics of the system. \n"
   ]
  },
  {
   "cell_type": "code",
   "execution_count": 7,
   "metadata": {},
   "outputs": [],
   "source": [
    "# PROGRAMMING OPTIMIZATION\n",
    "# Double pendulum dynamics via the rewritten Euler-Lagrange\n",
    "@partial(jax.jit, backend='cpu')\n",
    "def JIT_solve_autograd(initial_state, times, m1=1, m2=1, l1=1, l2=1, g=9.8):\n",
    "  L = partial(get_Lagrangian, m1=m1, m2=m2, l1=l1, l2=l2, g=g)\n",
    "  return JIT_solve_lagrangian(L, initial_state, t=times, rtol=1e-10, atol=1e-10)\n",
    "\n",
    "# Double pendulum dynamics via analytical forces taken from Diego's blog\n",
    "@partial(jax.jit, backend='cpu')\n",
    "def JIT_solve_analytical(initial_state, times):\n",
    "  return odeint(get_analytical_sol, initial_state, t=times, rtol=1e-10, atol=1e-10)"
   ]
  },
  {
   "cell_type": "code",
   "execution_count": 8,
   "metadata": {},
   "outputs": [],
   "source": [
    "# TESTING SOLUTIONS\n",
    "def normalize_dp(state):\n",
    "  # wrap generalized coordinates to [-pi, pi]\n",
    "  return jnp.concatenate([(state[:2] + np.pi) % (2 * np.pi) - np.pi, state[2:]])\n",
    "\n",
    "def rk4_step(f, x, t, h):\n",
    "  # one step of runge-kutta integration\n",
    "  k1 = h * f(x, t)\n",
    "  k2 = h * f(x + k1/2, t + h/2)\n",
    "  k3 = h * f(x + k2/2, t + h/2)\n",
    "  k4 = h * f(x + k3, t + h)\n",
    "  return x + 1/6 * (k1 + 2*k2 + 2*k3 + k4)"
   ]
  },
  {
   "cell_type": "markdown",
   "metadata": {},
   "source": [
    "**WHY normalize the variables?**\n",
    "The angles $\\theta_1$ and $\\theta_2$ in a pendulum are periodic — meaning:\n",
    "* $\\theta = \\pi \\rightarrow \\theta = -\\pi$\n",
    "* $\\theta = 2\\pi \\rightarrow \\theta = 0$\n",
    "\n",
    "**But numerically, they are not treated the same** unless you explicitly wrap or normalize them. This helps:\n",
    "* Avoid large angle drift (e.g., 20 radians vs. 1 radian)\n",
    "* Make trajectory comparisons clearer\n",
    "* Most importantly: **Improve numerical stability**\n",
    "\n",
    "### **NEXT:**  Compare Autograd vs. Analytic solutions\n",
    "\n",
    "Now that we have the Euler-Lagrange equation, one can use automatic differentiation to obtain the dynamics of the system; this approach must match the analytic solution.To test this, the authors opt for a random initial state, then the analytic solution is slightly perturbed to assess how sensitive it is to initial conditions. The latter will help in assessing the quality of performance of autograd. \n"
   ]
  },
  {
   "cell_type": "code",
   "execution_count": 9,
   "metadata": {},
   "outputs": [],
   "source": [
    "# choose an initial state\n",
    "x0 = np.array([3*np.pi/7, 3*np.pi/4, 0, 0], dtype=np.float32)\n",
    "noise = np.random.RandomState(0).randn(x0.size)\n",
    "t = np.linspace(0, 40, num=401, dtype=np.float32)"
   ]
  },
  {
   "cell_type": "code",
   "execution_count": 10,
   "metadata": {},
   "outputs": [],
   "source": [
    "# Compute dynamics analytically\n",
    "x_analytical = jax.device_get(JIT_solve_analytical(x0,t))\n",
    "noise_coeff_1, noise_coeff_2 = 1e-10, 1e-11\n",
    "x_perturbed_1 = jax.device_get(JIT_solve_analytical(x0 + noise_coeff_1*noise, t))\n",
    "x_perturbed_2 = jax.device_get(JIT_solve_analytical(x0 + noise_coeff_2*noise, t))"
   ]
  },
  {
   "cell_type": "code",
   "execution_count": 11,
   "metadata": {},
   "outputs": [],
   "source": [
    "# compute dynamics via autograd / the rewritten E-L equation\n",
    "x_autograd = jax.device_get(JIT_solve_autograd(x0, t))"
   ]
  },
  {
   "cell_type": "markdown",
   "metadata": {},
   "source": [
    "Let's compare methods"
   ]
  },
  {
   "cell_type": "code",
   "execution_count": 22,
   "metadata": {},
   "outputs": [
    {
     "data": {
      "image/png": "[encoded data removed]",
      "text/plain": [
       "<Figure size 1200x360 with 3 Axes>"
      ]
     },
     "metadata": {},
     "output_type": "display_data"
    }
   ],
   "source": [
    "plt.figure(figsize=[10,3], dpi=120) #; plt.xlim(0, 100)\n",
    "plt.subplot(1,3,1)\n",
    "plt.title(\"Analytic vs Perturbed ($\\epsilon$={})\".format(noise_coeff_1))\n",
    "plt.xlabel(\"Time\") ; plt.ylabel(\"State\")\n",
    "plt.plot(t, x_analytical[:, 0], 'g-', label='$q$')\n",
    "plt.plot(t, x_analytical[:, 1], 'c-', label='$\\dot q$')\n",
    "plt.plot(t, x_perturbed_1[:, 0], 'g--', label='pert. $q$')\n",
    "plt.plot(t, x_perturbed_1[:, 1], 'c--', label='pert. $\\dot q$')\n",
    "plt.ylim(-10, 60)\n",
    "plt.legend(fontsize=6)\n",
    "\n",
    "plt.subplot(1,3,2)\n",
    "plt.title(\"Analytic vs Perturbed ($\\epsilon$={})\".format(noise_coeff_2))\n",
    "plt.xlabel(\"Time\") ; plt.ylabel(\"State\")\n",
    "plt.plot(t, x_analytical[:, 0], 'g-', label='$q$')\n",
    "plt.plot(t, x_analytical[:, 1], 'c-', label='$\\dot q$')\n",
    "plt.plot(t, x_perturbed_2[:, 0], 'g--', label='pert. $q$')\n",
    "plt.plot(t, x_perturbed_2[:, 1], 'c--', label='pert. $\\dot q$')\n",
    "plt.ylim(-10, 60)\n",
    "plt.legend(fontsize=6)\n",
    "\n",
    "plt.subplot(1,3,3)\n",
    "plt.title(\"Analytic vs Autograd\")\n",
    "plt.xlabel(\"Time\") ; plt.ylabel(\"State\")\n",
    "plt.plot(t, x_analytical[:, 0], 'g-', label='$q$')\n",
    "plt.plot(t, x_analytical[:, 1], 'c-', label='$\\dot q$')\n",
    "plt.plot(t, x_autograd[:, 0], 'g--', label='autograd $q$')\n",
    "plt.plot(t, x_autograd[:, 1], 'c--', label='autograd $\\dot q$')\n",
    "plt.ylim(-10, 60)\n",
    "plt.legend(fontsize=6)\n",
    "\n",
    "plt.tight_layout() ; plt.show()"
   ]
  },
  {
   "cell_type": "code",
   "execution_count": null,
   "metadata": {},
   "outputs": [],
   "source": []
  }
 ],
 "metadata": {
  "kernelspec": {
   "display_name": "GPU_optimization",
   "language": "python",
   "name": "python3"
  },
  "language_info": {
   "codemirror_mode": {
    "name": "ipython",
    "version": 3
   },
   "file_extension": ".py",
   "mimetype": "text/x-python",
   "name": "python",
   "nbconvert_exporter": "python",
   "pygments_lexer": "ipython3",
   "version": "3.10.16"
  }
 },
 "nbformat": 4,
 "nbformat_minor": 2
}
