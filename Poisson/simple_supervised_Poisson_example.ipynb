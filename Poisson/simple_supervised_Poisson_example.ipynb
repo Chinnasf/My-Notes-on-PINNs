{
 "cells": [
  {
   "cell_type": "markdown",
   "metadata": {},
   "source": [
    "# SUPERVISED LEARNING\n",
    "\n",
    "## Simple example on Poission Equation. \n",
    "\n",
    "\n",
    "Objective: solve\n",
    "\n",
    "$$\n",
    "    \\frac{d^2u(x)}{dx^2} = f(x)\n",
    "$$\n",
    "\n",
    "With boundary conditions $u(0) = u(1) = 0$. Let's pick a source term: $f(x) = \\pi^2\\sin(\\pi x)$. "
   ]
  },
  {
   "cell_type": "markdown",
   "metadata": {},
   "source": []
  }
 ],
 "metadata": {
  "language_info": {
   "name": "python"
  }
 },
 "nbformat": 4,
 "nbformat_minor": 2
}
